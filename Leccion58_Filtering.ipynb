{
  "nbformat": 4,
  "nbformat_minor": 0,
  "metadata": {
    "colab": {
      "name": "Leccion58 - Filtering.ipynb",
      "provenance": [],
      "authorship_tag": "ABX9TyNiZDY0oaYCILR5ktl6G/t4",
      "include_colab_link": true
    },
    "kernelspec": {
      "name": "python3",
      "display_name": "Python 3"
    },
    "language_info": {
      "name": "python"
    }
  },
  "cells": [
    {
      "cell_type": "markdown",
      "metadata": {
        "id": "view-in-github",
        "colab_type": "text"
      },
      "source": [
        "<a href=\"https://colab.research.google.com/github/Xicoat/PandasCourse/blob/master/Leccion58_Filtering.ipynb\" target=\"_parent\"><img src=\"https://colab.research.google.com/assets/colab-badge.svg\" alt=\"Open In Colab\"/></a>"
      ]
    },
    {
      "cell_type": "code",
      "metadata": {
        "id": "IQM6Uk1RoKIV"
      },
      "source": [
        "#Filtering \n",
        "import pandas as pd\n",
        "import numpy as np\n",
        "\n",
        "alcohol = pd.read_csv('https://andybek.com/pandas-drinks', usecols=['country', 'wine_servings'], index_col=['country'], squeeze=True)"
      ],
      "execution_count": 1,
      "outputs": []
    },
    {
      "cell_type": "code",
      "metadata": {
        "colab": {
          "base_uri": "https://localhost:8080/"
        },
        "id": "Se_E-mVIoSYb",
        "outputId": "0fdfcb8c-41bd-4574-e8c3-ab7281962dbe"
      },
      "source": [
        "# Buscar paises que empiezan con V con filter\n",
        "# Se ejecuta sobre el indice\n",
        "alcohol.filter(regex='^V')"
      ],
      "execution_count": 34,
      "outputs": [
        {
          "output_type": "execute_result",
          "data": {
            "text/plain": [
              "country\n",
              "Vanuatu      11.0\n",
              "Venezuela     3.0\n",
              "Vietnam       1.0\n",
              "Name: wine_servings, dtype: float64"
            ]
          },
          "metadata": {
            "tags": []
          },
          "execution_count": 34
        }
      ]
    },
    {
      "cell_type": "code",
      "metadata": {
        "colab": {
          "base_uri": "https://localhost:8080/"
        },
        "id": "wBJOr1BwpUBt",
        "outputId": "f0f7e807-869b-40fe-f68b-5de9c2ae1bae"
      },
      "source": [
        "# filtrando con like\n",
        "# Se ejecuta sobre el indice\n",
        "alcohol.filter(like='stan')"
      ],
      "execution_count": 35,
      "outputs": [
        {
          "output_type": "execute_result",
          "data": {
            "text/plain": [
              "country\n",
              "Afghanistan      NaN\n",
              "Kazakhstan      12.0\n",
              "Kyrgyzstan       6.0\n",
              "Pakistan         NaN\n",
              "Tajikistan       NaN\n",
              "Turkmenistan    32.0\n",
              "Uzbekistan       8.0\n",
              "Name: wine_servings, dtype: float64"
            ]
          },
          "metadata": {
            "tags": []
          },
          "execution_count": 35
        }
      ]
    },
    {
      "cell_type": "code",
      "metadata": {
        "colab": {
          "base_uri": "https://localhost:8080/"
        },
        "id": "IdD8WQP0uSGh",
        "outputId": "6e2ffbda-f63a-480e-a183-b7fba73c0b62"
      },
      "source": [
        "# Filtrar por valores\n",
        "alcohol[alcohol > 200].head()"
      ],
      "execution_count": 37,
      "outputs": [
        {
          "output_type": "execute_result",
          "data": {
            "text/plain": [
              "country\n",
              "Andorra      312.0\n",
              "Argentina    221.0\n",
              "Australia    212.0\n",
              "Belgium      212.0\n",
              "Croatia      254.0\n",
              "Name: wine_servings, dtype: float64"
            ]
          },
          "metadata": {
            "tags": []
          },
          "execution_count": 37
        }
      ]
    },
    {
      "cell_type": "code",
      "metadata": {
        "colab": {
          "base_uri": "https://localhost:8080/"
        },
        "id": "QVz0mryMuh2I",
        "outputId": "9b68776c-cf4a-422e-9937-50cdbbde3973"
      },
      "source": [
        "# Equivalente usando loc\n",
        "alcohol.loc[alcohol > 200].head()"
      ],
      "execution_count": 41,
      "outputs": [
        {
          "output_type": "execute_result",
          "data": {
            "text/plain": [
              "country\n",
              "Andorra      312.0\n",
              "Argentina    221.0\n",
              "Australia    212.0\n",
              "Belgium      212.0\n",
              "Croatia      254.0\n",
              "Name: wine_servings, dtype: float64"
            ]
          },
          "metadata": {
            "tags": []
          },
          "execution_count": 41
        }
      ]
    },
    {
      "cell_type": "code",
      "metadata": {
        "colab": {
          "base_uri": "https://localhost:8080/"
        },
        "id": "xrCyIpqk8foC",
        "outputId": "abba5051-93e0-45e6-fba5-498e7ac75cf5"
      },
      "source": [
        "# Podemos crear una función que encapsule la expresión lógica\n",
        "def getplus200(x):\n",
        "  return x > 200\n",
        "\n",
        "alcohol[getplus200].head()"
      ],
      "execution_count": 44,
      "outputs": [
        {
          "output_type": "execute_result",
          "data": {
            "text/plain": [
              "country\n",
              "Andorra      312.0\n",
              "Argentina    221.0\n",
              "Australia    212.0\n",
              "Belgium      212.0\n",
              "Croatia      254.0\n",
              "Name: wine_servings, dtype: float64"
            ]
          },
          "metadata": {
            "tags": []
          },
          "execution_count": 44
        }
      ]
    },
    {
      "cell_type": "code",
      "metadata": {
        "colab": {
          "base_uri": "https://localhost:8080/"
        },
        "id": "r5qA7q6l9QKt",
        "outputId": "77f95c1c-0b25-4b61-c219-0e2cf24478a3"
      },
      "source": [
        "# Método where()\n",
        "# Es un método que reemplaza valores dada una condicion FALSA\n",
        "alcohol.where(lambda x: x>200, other='too small')\n"
      ],
      "execution_count": 52,
      "outputs": [
        {
          "output_type": "execute_result",
          "data": {
            "text/plain": [
              "country\n",
              "Afghanistan    too small\n",
              "Albania        too small\n",
              "Algeria        too small\n",
              "Andorra              312\n",
              "Angola         too small\n",
              "                 ...    \n",
              "Venezuela      too small\n",
              "Vietnam        too small\n",
              "Yemen          too small\n",
              "Zambia         too small\n",
              "Zimbabwe       too small\n",
              "Name: wine_servings, Length: 193, dtype: object"
            ]
          },
          "metadata": {
            "tags": []
          },
          "execution_count": 52
        }
      ]
    },
    {
      "cell_type": "code",
      "metadata": {
        "colab": {
          "base_uri": "https://localhost:8080/"
        },
        "id": "BiEZuILGFyOY",
        "outputId": "53f97a5a-8ec9-484a-cab0-eacd3117e7fd"
      },
      "source": [
        "# Método where()\n",
        "# Si no definimos other, el parámetro por default es NaN\n",
        "alcohol.where(lambda x: x>200).head()"
      ],
      "execution_count": 48,
      "outputs": [
        {
          "output_type": "execute_result",
          "data": {
            "text/plain": [
              "country\n",
              "Afghanistan      NaN\n",
              "Albania          NaN\n",
              "Algeria          NaN\n",
              "Andorra        312.0\n",
              "Angola           NaN\n",
              "Name: wine_servings, dtype: float64"
            ]
          },
          "metadata": {
            "tags": []
          },
          "execution_count": 48
        }
      ]
    },
    {
      "cell_type": "code",
      "metadata": {
        "colab": {
          "base_uri": "https://localhost:8080/"
        },
        "id": "-Y8HGEKWRnWu",
        "outputId": "c9e3f902-758c-4340-d39d-4cfc6449f82f"
      },
      "source": [
        "# Podemos usar esta caracteristica para alimitar todos los registros\n",
        "# que no corresponden con nuestra condicion.\n",
        "# Esto no altera la Serie original\n",
        "alcohol.where(lambda x: x>200).dropna()"
      ],
      "execution_count": 50,
      "outputs": [
        {
          "output_type": "execute_result",
          "data": {
            "text/plain": [
              "country\n",
              "Andorra              312.0\n",
              "Argentina            221.0\n",
              "Australia            212.0\n",
              "Belgium              212.0\n",
              "Croatia              254.0\n",
              "Denmark              278.0\n",
              "Equatorial Guinea    233.0\n",
              "Greece               218.0\n",
              "Italy                237.0\n",
              "Luxembourg           271.0\n",
              "Portugal             339.0\n",
              "Slovenia             276.0\n",
              "Name: wine_servings, dtype: float64"
            ]
          },
          "metadata": {
            "tags": []
          },
          "execution_count": 50
        }
      ]
    },
    {
      "cell_type": "code",
      "metadata": {
        "colab": {
          "base_uri": "https://localhost:8080/"
        },
        "id": "USUXOVLNSDO2",
        "outputId": "9cbb0015-abbe-4cb2-ba6e-6b6951e274f8"
      },
      "source": [
        "# Método mask\n",
        "# Es un método de reemplazo como where que opera \n",
        "# dada una condición lógica VERDADERA\n",
        "alcohol.mask(lambda x: x>200).dropna()"
      ],
      "execution_count": 53,
      "outputs": [
        {
          "output_type": "execute_result",
          "data": {
            "text/plain": [
              "country\n",
              "Albania              54.0\n",
              "Algeria              14.0\n",
              "Angola               45.0\n",
              "Antigua & Barbuda    45.0\n",
              "Armenia              11.0\n",
              "                     ... \n",
              "Vanuatu              11.0\n",
              "Venezuela             3.0\n",
              "Vietnam               1.0\n",
              "Zambia                4.0\n",
              "Zimbabwe              4.0\n",
              "Name: wine_servings, Length: 150, dtype: float64"
            ]
          },
          "metadata": {
            "tags": []
          },
          "execution_count": 53
        }
      ]
    },
    {
      "cell_type": "code",
      "metadata": {
        "id": "yvS1o8MXW4yc"
      },
      "source": [
        ""
      ],
      "execution_count": null,
      "outputs": []
    }
  ]
}