{
  "nbformat": 4,
  "nbformat_minor": 0,
  "metadata": {
    "colab": {
      "name": "Leccion 59 - Transforming.ipynb",
      "provenance": [],
      "authorship_tag": "ABX9TyM/mDJBs1xcpDG9jlsvlIMC",
      "include_colab_link": true
    },
    "kernelspec": {
      "name": "python3",
      "display_name": "Python 3"
    },
    "language_info": {
      "name": "python"
    }
  },
  "cells": [
    {
      "cell_type": "markdown",
      "metadata": {
        "id": "view-in-github",
        "colab_type": "text"
      },
      "source": [
        "<a href=\"https://colab.research.google.com/github/Xicoat/PandasCourse/blob/master/Leccion_59_Transforming.ipynb\" target=\"_parent\"><img src=\"https://colab.research.google.com/assets/colab-badge.svg\" alt=\"Open In Colab\"/></a>"
      ]
    },
    {
      "cell_type": "code",
      "metadata": {
        "id": "1rY9JkzXXZAB"
      },
      "source": [
        "#Filtering \n",
        "import pandas as pd\n",
        "import numpy as np\n",
        "\n",
        "alcohol = pd.read_csv('https://andybek.com/pandas-drinks', usecols=['country', 'wine_servings'], index_col=['country'], squeeze=True)"
      ],
      "execution_count": 2,
      "outputs": []
    },
    {
      "cell_type": "code",
      "metadata": {
        "colab": {
          "base_uri": "https://localhost:8080/"
        },
        "id": "NOKT4fj4W_kb",
        "outputId": "0b7987d5-0896-4a46-f716-ae3a605eb529"
      },
      "source": [
        "# Modificar un registro de la serie\n",
        "alcohol.loc['Algeria'] = 19\n",
        "alcohol.loc['Algeria']"
      ],
      "execution_count": 5,
      "outputs": [
        {
          "output_type": "execute_result",
          "data": {
            "text/plain": [
              "19.0"
            ]
          },
          "metadata": {
            "tags": []
          },
          "execution_count": 5
        }
      ]
    },
    {
      "cell_type": "code",
      "metadata": {
        "colab": {
          "base_uri": "https://localhost:8080/"
        },
        "id": "GvDOkPP5XaGa",
        "outputId": "feff0699-999a-4e93-a96d-07b0b5f50f78"
      },
      "source": [
        "# El método update es más escalable que la asignación directa\n",
        "# Actualiza la serie\n",
        "alcohol.update(pd.Series([200, 20], index=['Albania', 'Algeria']))\n",
        "print(f\"{alcohol.loc['Albania']}, {alcohol.loc['Algeria']}\")"
      ],
      "execution_count": 11,
      "outputs": [
        {
          "output_type": "stream",
          "text": [
            "200.0, 20.0\n"
          ],
          "name": "stdout"
        }
      ]
    },
    {
      "cell_type": "code",
      "metadata": {
        "colab": {
          "base_uri": "https://localhost:8080/"
        },
        "id": "nTj3snCiYUS4",
        "outputId": "a2e272e1-64f3-44db-adf2-387367c08a84"
      },
      "source": [
        "# El método apply() realiza una transformación a todos los elementos de la serie\n",
        "# No afecta a la serie\n",
        "alcohol.apply(lambda x: x**2).head()"
      ],
      "execution_count": 13,
      "outputs": [
        {
          "output_type": "execute_result",
          "data": {
            "text/plain": [
              "country\n",
              "Afghanistan        NaN\n",
              "Albania        40000.0\n",
              "Algeria          400.0\n",
              "Andorra        97344.0\n",
              "Angola          2025.0\n",
              "Name: wine_servings, dtype: float64"
            ]
          },
          "metadata": {
            "tags": []
          },
          "execution_count": 13
        }
      ]
    },
    {
      "cell_type": "code",
      "metadata": {
        "colab": {
          "base_uri": "https://localhost:8080/"
        },
        "id": "A5dZphsrZKeY",
        "outputId": "58bfbc9c-abf8-4d7c-d5b9-ae96432a3a78"
      },
      "source": [
        "# Equivalente a la función anterior\n",
        "alcohol.apply(np.square).head()"
      ],
      "execution_count": 15,
      "outputs": [
        {
          "output_type": "execute_result",
          "data": {
            "text/plain": [
              "country\n",
              "Afghanistan        NaN\n",
              "Albania        40000.0\n",
              "Algeria          400.0\n",
              "Andorra        97344.0\n",
              "Angola          2025.0\n",
              "Name: wine_servings, dtype: float64"
            ]
          },
          "metadata": {
            "tags": []
          },
          "execution_count": 15
        }
      ]
    },
    {
      "cell_type": "code",
      "metadata": {
        "colab": {
          "base_uri": "https://localhost:8080/"
        },
        "id": "nkUmgtX2ZRYB",
        "outputId": "01451798-7095-498f-ee7e-88bd0258c467"
      },
      "source": [
        "# Podemos crear nuestra propia función\n",
        "def cuadrado(x):\n",
        "  return x**2\n",
        "\n",
        "alcohol.apply(cuadrado).head()"
      ],
      "execution_count": 19,
      "outputs": [
        {
          "output_type": "execute_result",
          "data": {
            "text/plain": [
              "country\n",
              "Afghanistan        NaN\n",
              "Albania        40000.0\n",
              "Algeria          400.0\n",
              "Andorra        97344.0\n",
              "Angola          2025.0\n",
              "Name: wine_servings, dtype: float64"
            ]
          },
          "metadata": {
            "tags": []
          },
          "execution_count": 19
        }
      ]
    },
    {
      "cell_type": "code",
      "metadata": {
        "colab": {
          "base_uri": "https://localhost:8080/"
        },
        "id": "5W-ch3btZ3eg",
        "outputId": "84141a16-317b-427b-bd8f-d7cd1bbba8fe"
      },
      "source": [
        "# Podemos crear nuestra propia función con más parámetros\n",
        "# el valor de X esta reservado a la serie misma\n",
        "# el parámetro de args se asigna al siguiente parámetro\n",
        "def cuadrado_con_minimo(x, minimo):\n",
        "  if x < minimo:\n",
        "    return x**2\n",
        "  return x\n",
        "\n",
        "alcohol.apply(cuadrado_con_minimo, args=(250,)).head()"
      ],
      "execution_count": 21,
      "outputs": [
        {
          "output_type": "execute_result",
          "data": {
            "text/plain": [
              "country\n",
              "Afghanistan        NaN\n",
              "Albania        40000.0\n",
              "Algeria          400.0\n",
              "Andorra          312.0\n",
              "Angola          2025.0\n",
              "Name: wine_servings, dtype: float64"
            ]
          },
          "metadata": {
            "tags": []
          },
          "execution_count": 21
        }
      ]
    },
    {
      "cell_type": "code",
      "metadata": {
        "colab": {
          "base_uri": "https://localhost:8080/"
        },
        "id": "4HjMOtc6eOOK",
        "outputId": "fd4dba0e-0346-4b86-ae50-b5cb86ec0a2c"
      },
      "source": [
        "# Equivalente al anterior\n",
        "alcohol.apply(cuadrado_con_minimo, minimo=250).head()"
      ],
      "execution_count": 23,
      "outputs": [
        {
          "output_type": "execute_result",
          "data": {
            "text/plain": [
              "country\n",
              "Afghanistan        NaN\n",
              "Albania        40000.0\n",
              "Algeria          400.0\n",
              "Andorra          312.0\n",
              "Angola          2025.0\n",
              "Name: wine_servings, dtype: float64"
            ]
          },
          "metadata": {
            "tags": []
          },
          "execution_count": 23
        }
      ]
    }
  ]
}